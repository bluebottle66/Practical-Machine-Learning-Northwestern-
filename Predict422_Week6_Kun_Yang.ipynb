{
  "nbformat": 4,
  "nbformat_minor": 0,
  "metadata": {
    "colab": {
      "name": "Predict422 Week6 Kun Yang.ipynb",
      "version": "0.3.2",
      "provenance": [],
      "collapsed_sections": [],
      "include_colab_link": true
    },
    "kernelspec": {
      "name": "python3",
      "display_name": "Python 3"
    }
  },
  "cells": [
    {
      "cell_type": "markdown",
      "metadata": {
        "id": "view-in-github",
        "colab_type": "text"
      },
      "source": [
        "<a href=\"https://colab.research.google.com/github/bluebottle66/Practical-Machine-Learning-Northwestern-/blob/master/Predict422_Week6_Kun_Yang.ipynb\" target=\"_parent\"><img src=\"https://colab.research.google.com/assets/colab-badge.svg\" alt=\"Open In Colab\"/></a>"
      ]
    },
    {
      "metadata": {
        "id": "XDUNC5M45HEK",
        "colab_type": "text"
      },
      "cell_type": "markdown",
      "source": [
        "**Step 1: Retrieve data and preparation**"
      ]
    },
    {
      "metadata": {
        "id": "D0nwf6EH4vIu",
        "colab_type": "code",
        "colab": {
          "base_uri": "https://localhost:8080/",
          "height": 83
        },
        "outputId": "227781e6-4806-4abd-c91a-fa7c0c8bd88c"
      },
      "cell_type": "code",
      "source": [
        "import os\n",
        "from six.moves.urllib.request import urlretrieve\n",
        "\n",
        "SOURCE_URL = 'https://storage.googleapis.com/cvdf-datasets/mnist/'\n",
        "WORK_DIRECTORY = \"/tmp/mnist-data\"\n",
        "\n",
        "def maybe_download(filename):\n",
        "    \"\"\"A helper to download the data files if not present.\"\"\"\n",
        "    if not os.path.exists(WORK_DIRECTORY):\n",
        "        os.mkdir(WORK_DIRECTORY)\n",
        "    filepath = os.path.join(WORK_DIRECTORY, filename)\n",
        "    if not os.path.exists(filepath):\n",
        "        filepath, _ = urlretrieve(SOURCE_URL + filename, filepath)\n",
        "        statinfo = os.stat(filepath)\n",
        "        print('Successfully downloaded', filename, statinfo.st_size, 'bytes.')\n",
        "    else:\n",
        "        print('Already downloaded', filename)\n",
        "    return filepath\n",
        "\n",
        "train_data_filename = maybe_download('train-images-idx3-ubyte.gz')\n",
        "train_labels_filename = maybe_download('train-labels-idx1-ubyte.gz')\n",
        "test_data_filename = maybe_download('t10k-images-idx3-ubyte.gz')\n",
        "test_labels_filename = maybe_download('t10k-labels-idx1-ubyte.gz')"
      ],
      "execution_count": 1,
      "outputs": [
        {
          "output_type": "stream",
          "text": [
            "Successfully downloaded train-images-idx3-ubyte.gz 9912422 bytes.\n",
            "Successfully downloaded train-labels-idx1-ubyte.gz 28881 bytes.\n",
            "Successfully downloaded t10k-images-idx3-ubyte.gz 1648877 bytes.\n",
            "Successfully downloaded t10k-labels-idx1-ubyte.gz 4542 bytes.\n"
          ],
          "name": "stdout"
        }
      ]
    },
    {
      "metadata": {
        "id": "ASJ77lBW5WR7",
        "colab_type": "code",
        "colab": {
          "base_uri": "https://localhost:8080/",
          "height": 50
        },
        "outputId": "68add21a-3d5a-410c-8f66-7225213810d8"
      },
      "cell_type": "code",
      "source": [
        "import gzip, binascii, struct, numpy\n",
        "import matplotlib.pyplot as plt\n",
        "\n",
        "IMAGE_SIZE = 28\n",
        "PIXEL_DEPTH = 255\n",
        "\n",
        "def extract_data(filename, num_images):\n",
        "    \"\"\"Extract the images into a 4D tensor [image index, y, x, channels].\n",
        "  \n",
        "    For MNIST data, the number of channels is always 1.\n",
        "\n",
        "    Values are rescaled from [0, 255] down to [-0.5, 0.5].\n",
        "    \"\"\"\n",
        "    print('Extracting', filename)\n",
        "    with gzip.open(filename) as bytestream:\n",
        "        # Skip the magic number and dimensions; we know these values.\n",
        "        bytestream.read(16)\n",
        "\n",
        "        buf = bytestream.read(IMAGE_SIZE * IMAGE_SIZE * num_images)\n",
        "        data = numpy.frombuffer(buf, dtype=numpy.uint8).astype(numpy.float32)\n",
        "        data = (data - (PIXEL_DEPTH / 2.0)) / PIXEL_DEPTH\n",
        "        data = data.reshape(num_images, IMAGE_SIZE, IMAGE_SIZE, 1)\n",
        "        return data\n",
        "\n",
        "train_data = extract_data(train_data_filename, 60000)\n",
        "test_data = extract_data(test_data_filename, 10000)"
      ],
      "execution_count": 3,
      "outputs": [
        {
          "output_type": "stream",
          "text": [
            "Extracting /tmp/mnist-data/train-images-idx3-ubyte.gz\n",
            "Extracting /tmp/mnist-data/t10k-images-idx3-ubyte.gz\n"
          ],
          "name": "stdout"
        }
      ]
    },
    {
      "metadata": {
        "id": "FKGDIxjO5-fi",
        "colab_type": "text"
      },
      "cell_type": "markdown",
      "source": [
        "Now we retrieved all the data to train and test dataset, where data is desired formate:\n",
        "\n",
        "\n",
        "> data are stored with 28 * 28 dimension, rescaled to [-0.5,0.5]\n",
        "\n",
        "\n",
        "> train data have 60000 images and test data have 10000 images\n",
        "\n",
        "\n",
        "\n"
      ]
    },
    {
      "metadata": {
        "id": "eML3BG3K5ptk",
        "colab_type": "code",
        "colab": {
          "base_uri": "https://localhost:8080/",
          "height": 217
        },
        "outputId": "eb816a2e-075e-4e65-87d4-08b9de8d0d4c"
      },
      "cell_type": "code",
      "source": [
        "#take a look at our data to make sure it is what we need\n",
        "\n",
        "get_ipython().magic(u'matplotlib inline')\n",
        "\n",
        "print('Training data shape', train_data.shape)\n",
        "_, (ax1, ax2) = plt.subplots(1, 2)\n",
        "ax1.imshow(train_data[2].reshape(28, 28), cmap=plt.cm.Greys);\n",
        "ax2.imshow(train_data[3].reshape(28, 28), cmap=plt.cm.Greys);"
      ],
      "execution_count": 5,
      "outputs": [
        {
          "output_type": "stream",
          "text": [
            "Training data shape (60000, 28, 28, 1)\n"
          ],
          "name": "stdout"
        },
        {
          "output_type": "display_data",
          "data": {
            "image/png": "[encoded data removed]",
            "text/plain": [
              "<matplotlib.figure.Figure at 0x7f2516173cf8>"
            ]
          },
          "metadata": {
            "tags": []
          }
        }
      ]
    },
    {
      "metadata": {
        "id": "orT4pLjT7M2l",
        "colab_type": "code",
        "colab": {
          "base_uri": "https://localhost:8080/",
          "height": 50
        },
        "outputId": "6f0c1da3-3144-46f2-ccdb-4860238bb91f"
      },
      "cell_type": "code",
      "source": [
        "#ok, now get the label\n",
        "NUM_LABELS = 10\n",
        "\n",
        "def extract_labels(filename, num_images):\n",
        "    \"\"\"Extract the labels into a 1-hot matrix [image index, label index].\"\"\"\n",
        "    print('Extracting', filename)\n",
        "    with gzip.open(filename) as bytestream:\n",
        "        # Skip the magic number and count; we know these values.\n",
        "        bytestream.read(8)\n",
        "        buf = bytestream.read(1 * num_images)\n",
        "        labels = numpy.frombuffer(buf, dtype=numpy.uint8)\n",
        "    # Convert to dense 1-hot representation.\n",
        "    return (numpy.arange(NUM_LABELS) == labels[:, None]).astype(numpy.float32)\n",
        "\n",
        "train_labels = extract_labels(train_labels_filename, 60000)\n",
        "test_labels = extract_labels(test_labels_filename, 10000)"
      ],
      "execution_count": 6,
      "outputs": [
        {
          "output_type": "stream",
          "text": [
            "Extracting /tmp/mnist-data/train-labels-idx1-ubyte.gz\n",
            "Extracting /tmp/mnist-data/t10k-labels-idx1-ubyte.gz\n"
          ],
          "name": "stdout"
        }
      ]
    },
    {
      "metadata": {
        "id": "eatqKbRA7mVo",
        "colab_type": "code",
        "colab": {
          "base_uri": "https://localhost:8080/",
          "height": 66
        },
        "outputId": "69d4e0bc-af00-4f19-d735-6508d7d6c324"
      },
      "cell_type": "code",
      "source": [
        "print('Training labels shape', train_labels.shape)\n",
        "print('First label vector', train_labels[2])\n",
        "print('Second label vector', train_labels[3])"
      ],
      "execution_count": 7,
      "outputs": [
        {
          "output_type": "stream",
          "text": [
            "Training labels shape (60000, 10)\n",
            "First label vector [0. 0. 0. 0. 1. 0. 0. 0. 0. 0.]\n",
            "Second label vector [0. 1. 0. 0. 0. 0. 0. 0. 0. 0.]\n"
          ],
          "name": "stdout"
        }
      ]
    },
    {
      "metadata": {
        "id": "mf9Q8Why76p9",
        "colab_type": "text"
      },
      "cell_type": "markdown",
      "source": [
        "the label shows digit 4 and 1 have value, it matched above data image with correct label, so this means we get our label and value all good"
      ]
    },
    {
      "metadata": {
        "id": "PARbqip28RLW",
        "colab_type": "text"
      },
      "cell_type": "markdown",
      "source": [
        "**Step 2: segment dato into training, test and validation set**"
      ]
    },
    {
      "metadata": {
        "id": "Xiyd3w6M7tHY",
        "colab_type": "code",
        "colab": {
          "base_uri": "https://localhost:8080/",
          "height": 50
        },
        "outputId": "defec229-4b93-4609-8d15-bae037fca9c8"
      },
      "cell_type": "code",
      "source": [
        "VALIDATION_SIZE = 5000\n",
        "\n",
        "validation_data = train_data[:VALIDATION_SIZE, :, :, :]\n",
        "validation_labels = train_labels[:VALIDATION_SIZE]\n",
        "train_data = train_data[VALIDATION_SIZE:, :, :, :]\n",
        "train_labels = train_labels[VALIDATION_SIZE:]\n",
        "\n",
        "train_size = train_labels.shape[0]\n",
        "\n",
        "print('Validation shape', validation_data.shape)\n",
        "print('Train size', train_size)"
      ],
      "execution_count": 8,
      "outputs": [
        {
          "output_type": "stream",
          "text": [
            "Validation shape (5000, 28, 28, 1)\n",
            "Train size 55000\n"
          ],
          "name": "stdout"
        }
      ]
    },
    {
      "metadata": {
        "id": "MwyTwHJZ8sr9",
        "colab_type": "text"
      },
      "cell_type": "markdown",
      "source": [
        "**Step3: defining our model**\n",
        "\n",
        "\n",
        "1.   define variables to hold weights\n",
        "2.   define model graph structure\n",
        "3.   stamping copies of model graph for training, testing and validation\n",
        "\n",
        "\n",
        "\n",
        "\n",
        "\n",
        "\n"
      ]
    },
    {
      "metadata": {
        "id": "YfVJ4k3q8myI",
        "colab_type": "code",
        "colab": {}
      },
      "cell_type": "code",
      "source": [
        "import tensorflow as tf\n",
        "BATCH_SIZE = 60\n",
        "NUM_CHANNELS = 1\n",
        "SEED = 42"
      ],
      "execution_count": 0,
      "outputs": []
    },
    {
      "metadata": {
        "id": "_JK0lxPW9ql2",
        "colab_type": "code",
        "colab": {}
      },
      "cell_type": "code",
      "source": [
        "#placeholder for data\n",
        "\n",
        "train_data_node = tf.placeholder(\n",
        "  tf.float32,\n",
        "  shape=(BATCH_SIZE, IMAGE_SIZE, IMAGE_SIZE, NUM_CHANNELS))"
      ],
      "execution_count": 0,
      "outputs": []
    },
    {
      "metadata": {
        "id": "Pog8BiE-92tQ",
        "colab_type": "code",
        "colab": {}
      },
      "cell_type": "code",
      "source": [
        "#placeholder for label\n",
        "train_labels_node = tf.placeholder(tf.float32,\n",
        "                                   shape=(BATCH_SIZE, NUM_LABELS))"
      ],
      "execution_count": 0,
      "outputs": []
    },
    {
      "metadata": {
        "id": "1n2MP-8t97B4",
        "colab_type": "code",
        "colab": {}
      },
      "cell_type": "code",
      "source": [
        "# For the validation and test data, we'll just hold the entire dataset in\n",
        "# one constant node.\n",
        "validation_data_node = tf.constant(validation_data)\n",
        "test_data_node = tf.constant(test_data)"
      ],
      "execution_count": 0,
      "outputs": []
    },
    {
      "metadata": {
        "id": "Z5iD015lCVRt",
        "colab_type": "text"
      },
      "cell_type": "markdown",
      "source": [
        "- first step: define variables"
      ]
    },
    {
      "metadata": {
        "id": "r-ctj6xn-dur",
        "colab_type": "code",
        "colab": {}
      },
      "cell_type": "code",
      "source": [
        "# now define variables\n",
        "\n",
        "conv1_weights = tf.Variable(\n",
        "  tf.truncated_normal([5, 5, NUM_CHANNELS, 32],  # 5x5 filter, depth 32.\n",
        "                      stddev=0.1,\n",
        "                      seed=SEED))\n",
        "conv1_biases = tf.Variable(tf.zeros([32]))"
      ],
      "execution_count": 0,
      "outputs": []
    },
    {
      "metadata": {
        "id": "WDRNszMG-v1y",
        "colab_type": "code",
        "colab": {}
      },
      "cell_type": "code",
      "source": [
        "conv2_weights = tf.Variable(\n",
        "  tf.truncated_normal([5, 5, 32, 64],\n",
        "                      stddev=0.1,\n",
        "                      seed=SEED))\n",
        "conv2_biases = tf.Variable(tf.constant(0.1, shape=[64]))"
      ],
      "execution_count": 0,
      "outputs": []
    },
    {
      "metadata": {
        "id": "0k4-J2T8_GBJ",
        "colab_type": "code",
        "colab": {}
      },
      "cell_type": "code",
      "source": [
        "fc1_weights = tf.Variable(  # fully connected, depth 512.\n",
        "  tf.truncated_normal([IMAGE_SIZE // 4 * IMAGE_SIZE // 4 * 64, 512],\n",
        "                      stddev=0.1,\n",
        "                      seed=SEED))\n",
        "fc1_biases = tf.Variable(tf.constant(0.1, shape=[512]))"
      ],
      "execution_count": 0,
      "outputs": []
    },
    {
      "metadata": {
        "id": "Q8ufKdJ7ASAX",
        "colab_type": "code",
        "colab": {}
      },
      "cell_type": "code",
      "source": [
        "fc2_weights = tf.Variable(\n",
        "  tf.truncated_normal([512, NUM_LABELS],\n",
        "                      stddev=0.1,\n",
        "                      seed=SEED))\n",
        "fc2_biases = tf.Variable(tf.constant(0.1, shape=[NUM_LABELS]))"
      ],
      "execution_count": 0,
      "outputs": []
    },
    {
      "metadata": {
        "id": "DDifJrKwAW54",
        "colab_type": "code",
        "colab": {}
      },
      "cell_type": "code",
      "source": [
        "#look at the variable we just created\n",
        "from tensorflow.python.framework import ops\n",
        "All_variables_list = ops.get_collection(ops.GraphKeys.GLOBAL_VARIABLES)"
      ],
      "execution_count": 0,
      "outputs": []
    },
    {
      "metadata": {
        "id": "1KfFf7vkBbOB",
        "colab_type": "code",
        "colab": {
          "base_uri": "https://localhost:8080/",
          "height": 53
        },
        "outputId": "568a0255-a8a5-475c-aa6b-520b720cd4ef"
      },
      "cell_type": "code",
      "source": [
        "print(All_variables_list)"
      ],
      "execution_count": 20,
      "outputs": [
        {
          "output_type": "stream",
          "text": [
            "[<tf.Variable 'Variable:0' shape=(5, 5, 1, 32) dtype=float32_ref>, <tf.Variable 'Variable_1:0' shape=(32,) dtype=float32_ref>, <tf.Variable 'Variable_2:0' shape=(5, 5, 32, 64) dtype=float32_ref>, <tf.Variable 'Variable_3:0' shape=(64,) dtype=float32_ref>, <tf.Variable 'Variable_4:0' shape=(3136, 512) dtype=float32_ref>, <tf.Variable 'Variable_5:0' shape=(512,) dtype=float32_ref>, <tf.Variable 'Variable_6:0' shape=(512, 10) dtype=float32_ref>, <tf.Variable 'Variable_7:0' shape=(10,) dtype=float32_ref>]\n"
          ],
          "name": "stdout"
        }
      ]
    },
    {
      "metadata": {
        "id": "rGrULebqCbRJ",
        "colab_type": "text"
      },
      "cell_type": "markdown",
      "source": [
        "- second step: define graph structure"
      ]
    },
    {
      "metadata": {
        "id": "YBai9RO1Bkqe",
        "colab_type": "code",
        "colab": {}
      },
      "cell_type": "code",
      "source": [
        "def model(data, train=False):\n",
        "    \"\"\"The Model definition.\"\"\"\n",
        "    # 2D convolution, with 'SAME' padding (i.e. the output feature map has\n",
        "    # the same size as the input). Note that {strides} is a 4D array whose\n",
        "    # shape matches the data layout: [image index, y, x, depth].\n",
        "    conv = tf.nn.conv2d(data,\n",
        "                        conv1_weights,\n",
        "                        strides=[1, 1, 1, 1],\n",
        "                        padding='SAME')\n",
        "\n",
        "    # Bias and rectified linear non-linearity.\n",
        "    relu = tf.nn.relu(tf.nn.bias_add(conv, conv1_biases))\n",
        "\n",
        "    # Max pooling. The kernel size spec ksize also follows the layout of\n",
        "    # the data. Here we have a pooling window of 2, and a stride of 2.\n",
        "    pool = tf.nn.max_pool(relu,\n",
        "                          ksize=[1, 2, 2, 1],\n",
        "                          strides=[1, 2, 2, 1],\n",
        "                          padding='SAME')\n",
        "    conv = tf.nn.conv2d(pool,\n",
        "                        conv2_weights,\n",
        "                        strides=[1, 1, 1, 1],\n",
        "                        padding='SAME')\n",
        "    relu = tf.nn.relu(tf.nn.bias_add(conv, conv2_biases))\n",
        "    pool = tf.nn.max_pool(relu,\n",
        "                          ksize=[1, 2, 2, 1],\n",
        "                          strides=[1, 2, 2, 1],\n",
        "                          padding='SAME')\n",
        "\n",
        "    # Reshape the feature map cuboid into a 2D matrix to feed it to the\n",
        "    # fully connected layers.\n",
        "    pool_shape = pool.get_shape().as_list()\n",
        "    reshape = tf.reshape(\n",
        "        pool,\n",
        "        [pool_shape[0], pool_shape[1] * pool_shape[2] * pool_shape[3]])\n",
        "  \n",
        "    # Fully connected layer. Note that the '+' operation automatically\n",
        "    # broadcasts the biases.\n",
        "    hidden = tf.nn.relu(tf.matmul(reshape, fc1_weights) + fc1_biases)\n",
        "\n",
        "    # Add a 50% dropout during training only. Dropout also scales\n",
        "    # activations such that no rescaling is needed at evaluation time.\n",
        "    if train:\n",
        "        hidden = tf.nn.dropout(hidden, 0.5, seed=SEED)\n",
        "    return tf.matmul(hidden, fc2_weights) + fc2_biases"
      ],
      "execution_count": 0,
      "outputs": []
    },
    {
      "metadata": {
        "id": "2ZgflGuzDT1G",
        "colab_type": "text"
      },
      "cell_type": "markdown",
      "source": [
        "- step3: stamp out multiple copies for traing, testing and validation"
      ]
    },
    {
      "metadata": {
        "id": "HevHPn9aC5oA",
        "colab_type": "code",
        "colab": {
          "base_uri": "https://localhost:8080/",
          "height": 170
        },
        "outputId": "388fa0dd-4dea-49ea-dce0-be7cbcc32c45"
      },
      "cell_type": "code",
      "source": [
        "# Training computation: logits + cross-entropy loss.\n",
        "logits = model(train_data_node, True)\n",
        "loss = tf.reduce_mean(tf.nn.softmax_cross_entropy_with_logits(\n",
        "  labels=train_labels_node, logits=logits))\n",
        "\n",
        "# L2 regularization for the fully connected parameters.\n",
        "regularizers = (tf.nn.l2_loss(fc1_weights) + tf.nn.l2_loss(fc1_biases) +\n",
        "                tf.nn.l2_loss(fc2_weights) + tf.nn.l2_loss(fc2_biases))\n",
        "# Add the regularization term to the loss.\n",
        "loss += 5e-4 * regularizers\n",
        "\n",
        "# Optimizer: set up a variable that's incremented once per batch and\n",
        "# controls the learning rate decay.\n",
        "batch = tf.Variable(0)\n",
        "# Decay once per epoch, using an exponential schedule starting at 0.01.\n",
        "learning_rate = tf.train.exponential_decay(\n",
        "  0.01,                # Base learning rate.\n",
        "  batch * BATCH_SIZE,  # Current index into the dataset.\n",
        "  train_size,          # Decay step.\n",
        "  0.95,                # Decay rate.\n",
        "  staircase=True)\n",
        "# Use simple momentum for the optimization.\n",
        "optimizer = tf.train.MomentumOptimizer(learning_rate,\n",
        "                                       0.9).minimize(loss,\n",
        "                                                     global_step=batch)\n",
        "\n",
        "# Predictions for the minibatch, validation set and test set.\n",
        "train_prediction = tf.nn.softmax(logits)\n",
        "# We'll compute them only once in a while by calling their {eval()} method.\n",
        "validation_prediction = tf.nn.softmax(model(validation_data_node))\n",
        "test_prediction = tf.nn.softmax(model(test_data_node))"
      ],
      "execution_count": 22,
      "outputs": [
        {
          "output_type": "stream",
          "text": [
            "WARNING:tensorflow:From <ipython-input-22-85183e4c5a6f>:3: softmax_cross_entropy_with_logits (from tensorflow.python.ops.nn_ops) is deprecated and will be removed in a future version.\n",
            "Instructions for updating:\n",
            "\n",
            "Future major versions of TensorFlow will allow gradients to flow\n",
            "into the labels input on backprop by default.\n",
            "\n",
            "See `tf.nn.softmax_cross_entropy_with_logits_v2`.\n",
            "\n"
          ],
          "name": "stdout"
        }
      ]
    },
    {
      "metadata": {
        "id": "q-MLRHWmD5-Y",
        "colab_type": "text"
      },
      "cell_type": "markdown",
      "source": [
        "**Training and Visualization of the results**"
      ]
    },
    {
      "metadata": {
        "id": "fUC4bsj0Dx2r",
        "colab_type": "code",
        "colab": {}
      },
      "cell_type": "code",
      "source": [
        "# Create a new interactive session that we'll use in\n",
        "# subsequent code cells.\n",
        "s = tf.InteractiveSession()\n",
        "\n",
        "# Use our newly created session as the default for \n",
        "# subsequent operations.\n",
        "s.as_default()\n",
        "\n",
        "# Initialize all the variables we defined above.\n",
        "tf.global_variables_initializer().run()"
      ],
      "execution_count": 0,
      "outputs": []
    },
    {
      "metadata": {
        "id": "tkQZavYhEM4Y",
        "colab_type": "code",
        "colab": {
          "base_uri": "https://localhost:8080/",
          "height": 50
        },
        "outputId": "d80f8c2d-979c-4478-bc15-f5d194642d46"
      },
      "cell_type": "code",
      "source": [
        "BATCH_SIZE = 60\n",
        "\n",
        "# Grab the first BATCH_SIZE examples and labels.\n",
        "batch_data = train_data[:BATCH_SIZE, :, :, :]\n",
        "batch_labels = train_labels[:BATCH_SIZE]\n",
        "\n",
        "print(batch_data.shape)\n",
        "print(batch_labels.shape)"
      ],
      "execution_count": 26,
      "outputs": [
        {
          "output_type": "stream",
          "text": [
            "(60, 28, 28, 1)\n",
            "(60, 10)\n"
          ],
          "name": "stdout"
        }
      ]
    },
    {
      "metadata": {
        "id": "awC-MDHQE1Iv",
        "colab_type": "code",
        "colab": {}
      },
      "cell_type": "code",
      "source": [
        "feed_dict = {train_data_node: batch_data,\n",
        "             train_labels_node: batch_labels}\n",
        "\n",
        "# Run the graph and fetch some of the nodes.\n",
        "_, l, lr, predictions = s.run(\n",
        "  [optimizer, loss, learning_rate, train_prediction],\n",
        "  feed_dict=feed_dict)"
      ],
      "execution_count": 0,
      "outputs": []
    },
    {
      "metadata": {
        "id": "3B5aDJbqFUsX",
        "colab_type": "code",
        "colab": {
          "base_uri": "https://localhost:8080/",
          "height": 116
        },
        "outputId": "1ba27321-eee1-4288-9a28-40e190abf32a"
      },
      "cell_type": "code",
      "source": [
        "print(predictions[0])\n",
        "print('First prediction', numpy.argmax(predictions[0]))\n",
        "print(predictions.shape)\n",
        "print('All predictions', numpy.argmax(predictions, 1))"
      ],
      "execution_count": 29,
      "outputs": [
        {
          "output_type": "stream",
          "text": [
            "[2.2539226e-04 4.7622027e-05 1.6686729e-03 5.6782723e-05 6.0343301e-01\n",
            " 4.3496866e-02 2.1931728e-05 1.4128604e-04 1.5490332e-05 3.5089296e-01]\n",
            "First prediction 4\n",
            "(60, 10)\n",
            "All predictions [4 4 2 7 7 7 7 7 7 7 7 7 0 8 9 0 7 7 0 7 4 0 5 0 9 9 7 0 7 4 7 7 7 0 7 7 9\n",
            " 7 9 9 0 7 7 7 2 7 0 7 2 9 9 9 9 9 0 7 9 4 8 7]\n"
          ],
          "name": "stdout"
        }
      ]
    },
    {
      "metadata": {
        "id": "nrkyPVuXFilY",
        "colab_type": "code",
        "colab": {
          "base_uri": "https://localhost:8080/",
          "height": 66
        },
        "outputId": "1e01a788-8e42-4c6d-c255-d8decdcf0a24"
      },
      "cell_type": "code",
      "source": [
        "print('Batch labels', numpy.argmax(batch_labels, 1))\n",
        "correct = numpy.sum(numpy.argmax(predictions, 1) == numpy.argmax(batch_labels, 1))\n",
        "total = predictions.shape[0]\n",
        "\n",
        "print(float(correct) / float(total))"
      ],
      "execution_count": 30,
      "outputs": [
        {
          "output_type": "stream",
          "text": [
            "Batch labels [7 3 4 6 1 8 1 0 9 8 0 3 1 2 7 0 2 9 6 0 1 6 7 1 9 7 6 5 5 8 8 3 4 4 8 7 3\n",
            " 6 4 6 6 3 8 8 9 9 4 4 0 7 8 1 0 0 1 8 5 7 1 7]\n",
            "0.06666666666666667\n"
          ],
          "name": "stdout"
        }
      ]
    },
    {
      "metadata": {
        "id": "qXf7poDeF8gg",
        "colab_type": "code",
        "colab": {
          "base_uri": "https://localhost:8080/",
          "height": 264
        },
        "outputId": "1bce1c5f-8abe-48c1-82d9-2d272a4c1146"
      },
      "cell_type": "code",
      "source": [
        "confusions = numpy.zeros([10, 10], numpy.float32)\n",
        "bundled = zip(numpy.argmax(predictions, 1), numpy.argmax(batch_labels, 1))\n",
        "for predicted, actual in bundled:\n",
        "  confusions[predicted, actual] += 1\n",
        "\n",
        "plt.grid(False)\n",
        "plt.xticks(numpy.arange(NUM_LABELS))\n",
        "plt.yticks(numpy.arange(NUM_LABELS))\n",
        "plt.imshow(confusions, cmap=plt.cm.jet, interpolation='nearest');"
      ],
      "execution_count": 31,
      "outputs": [
        {
          "output_type": "display_data",
          "data": {
            "image/png": "[encoded data removed]",
            "text/plain": [
              "<matplotlib.figure.Figure at 0x7f2516afd940>"
            ]
          },
          "metadata": {
            "tags": []
          }
        }
      ]
    },
    {
      "metadata": {
        "id": "7L70ky2pGUeb",
        "colab_type": "text"
      },
      "cell_type": "markdown",
      "source": [
        "Above shows using the first 60 data to traint the model, the result is very bad. we can compare between our predict vs label to see how far the predication is from the correct value. the correation ratio is only 6%"
      ]
    },
    {
      "metadata": {
        "id": "54zxwF9vGCvl",
        "colab_type": "code",
        "colab": {}
      },
      "cell_type": "code",
      "source": [
        "#wrap above into a function\n",
        "def error_rate(predictions, labels):\n",
        "    \"\"\"Return the error rate and confusions.\"\"\"\n",
        "    correct = numpy.sum(numpy.argmax(predictions, 1) == numpy.argmax(labels, 1))\n",
        "    total = predictions.shape[0]\n",
        "\n",
        "    error = 100.0 - (100 * float(correct) / float(total))\n",
        "\n",
        "    confusions = numpy.zeros([10, 10], numpy.float32)\n",
        "    bundled = zip(numpy.argmax(predictions, 1), numpy.argmax(labels, 1))\n",
        "    for predicted, actual in bundled:\n",
        "        confusions[predicted, actual] += 1\n",
        "    \n",
        "    return error, confusions"
      ],
      "execution_count": 0,
      "outputs": []
    },
    {
      "metadata": {
        "id": "J3XWcE8aHtNL",
        "colab_type": "code",
        "colab": {
          "base_uri": "https://localhost:8080/",
          "height": 66
        },
        "outputId": "6e086ad1-baad-44ee-d020-0ecab7fcd3a8"
      },
      "cell_type": "code",
      "source": [
        "steps = train_size // BATCH_SIZE\n",
        "print(train_size)\n",
        "print(BATCH_SIZE)\n",
        "print(steps)"
      ],
      "execution_count": 35,
      "outputs": [
        {
          "output_type": "stream",
          "text": [
            "55000\n",
            "60\n",
            "916\n"
          ],
          "name": "stdout"
        }
      ]
    },
    {
      "metadata": {
        "id": "h4SV5i35GIgo",
        "colab_type": "code",
        "colab": {
          "base_uri": "https://localhost:8080/",
          "height": 516
        },
        "outputId": "d824a7fe-0f31-4896-9b8e-3b2cc99f3261"
      },
      "cell_type": "code",
      "source": [
        "\n",
        "for step in range(steps):\n",
        "    # Compute the offset of the current minibatch in the data.\n",
        "    # Note that we could use better randomization across epochs.\n",
        "    offset = (step * BATCH_SIZE) % (train_size - BATCH_SIZE)\n",
        "    batch_data = train_data[offset:(offset + BATCH_SIZE), :, :, :]\n",
        "    batch_labels = train_labels[offset:(offset + BATCH_SIZE)]\n",
        "    # This dictionary maps the batch data (as a numpy array) to the\n",
        "    # node in the graph it should be fed to.\n",
        "    feed_dict = {train_data_node: batch_data,\n",
        "                 train_labels_node: batch_labels}\n",
        "    # Run the graph and fetch some of the nodes.\n",
        "    _, l, lr, predictions = s.run(\n",
        "      [optimizer, loss, learning_rate, train_prediction],\n",
        "      feed_dict=feed_dict)\n",
        "    \n",
        "    # Print out the loss periodically.\n",
        "    if step % 100 == 0:\n",
        "        error, _ = error_rate(predictions, batch_labels)\n",
        "        print('Step %d of %d' % (step, steps))\n",
        "        print('Mini-batch loss: %.5f Error: %.5f Learning rate: %.5f' % (l, error, lr))\n",
        "        print('Validation error: %.1f%%' % error_rate(\n",
        "              validation_prediction.eval(), validation_labels)[0])\n"
      ],
      "execution_count": 36,
      "outputs": [
        {
          "output_type": "stream",
          "text": [
            "Step 0 of 916\n",
            "Mini-batch loss: 7.71259 Error: 91.66667 Learning rate: 0.01000\n",
            "Validation error: 88.9%\n",
            "Step 100 of 916\n",
            "Mini-batch loss: 3.28615 Error: 5.00000 Learning rate: 0.01000\n",
            "Validation error: 5.5%\n",
            "Step 200 of 916\n",
            "Mini-batch loss: 3.29361 Error: 8.33333 Learning rate: 0.01000\n",
            "Validation error: 3.7%\n",
            "Step 300 of 916\n",
            "Mini-batch loss: 3.19405 Error: 3.33333 Learning rate: 0.01000\n",
            "Validation error: 3.4%\n",
            "Step 400 of 916\n",
            "Mini-batch loss: 3.07051 Error: 1.66667 Learning rate: 0.01000\n",
            "Validation error: 2.6%\n",
            "Step 500 of 916\n",
            "Mini-batch loss: 3.02596 Error: 1.66667 Learning rate: 0.01000\n",
            "Validation error: 2.4%\n",
            "Step 600 of 916\n",
            "Mini-batch loss: 3.05108 Error: 3.33333 Learning rate: 0.01000\n",
            "Validation error: 1.8%\n",
            "Step 700 of 916\n",
            "Mini-batch loss: 3.11480 Error: 6.66667 Learning rate: 0.01000\n",
            "Validation error: 2.0%\n",
            "Step 800 of 916\n",
            "Mini-batch loss: 3.09262 Error: 6.66667 Learning rate: 0.01000\n",
            "Validation error: 1.9%\n",
            "Step 900 of 916\n",
            "Mini-batch loss: 2.85356 Error: 0.00000 Learning rate: 0.01000\n",
            "Validation error: 2.0%\n"
          ],
          "name": "stdout"
        }
      ]
    },
    {
      "metadata": {
        "id": "7DkSZTOVI-yp",
        "colab_type": "text"
      },
      "cell_type": "markdown",
      "source": [
        "We can see after we go through the 916 steps to train, the erro rate is going down a lot. for our validation set, the error is at 2%. Next we can try how our model performs on our testing set."
      ]
    },
    {
      "metadata": {
        "id": "2zx92RKxIG4K",
        "colab_type": "code",
        "colab": {
          "base_uri": "https://localhost:8080/",
          "height": 33
        },
        "outputId": "181afa79-31e3-4e5f-c880-6e1b75556a1b"
      },
      "cell_type": "code",
      "source": [
        "test_error, confusions = error_rate(test_prediction.eval(), test_labels)\n",
        "print('Test error: %.1f%%' % test_error)"
      ],
      "execution_count": 37,
      "outputs": [
        {
          "output_type": "stream",
          "text": [
            "Test error: 2.0%\n"
          ],
          "name": "stdout"
        }
      ]
    },
    {
      "metadata": {
        "id": "qJ6vN4vzJnT8",
        "colab_type": "text"
      },
      "cell_type": "markdown",
      "source": [
        "matching the performance with our validation set"
      ]
    },
    {
      "metadata": {
        "id": "qstVkklZJi46",
        "colab_type": "code",
        "colab": {
          "base_uri": "https://localhost:8080/",
          "height": 278
        },
        "outputId": "5d9ecc40-e549-4ca6-b7d0-9d40e314b51e"
      },
      "cell_type": "code",
      "source": [
        "#take a look at our plots\n",
        "plt.xlabel('Actual')\n",
        "plt.ylabel('Predicted')\n",
        "plt.grid(False)\n",
        "plt.xticks(numpy.arange(NUM_LABELS))\n",
        "plt.yticks(numpy.arange(NUM_LABELS))\n",
        "plt.imshow(confusions, cmap=plt.cm.jet, interpolation='nearest');\n",
        "\n",
        "for i, cas in enumerate(confusions):\n",
        "    for j, count in enumerate(cas):\n",
        "        if count > 0:\n",
        "            xoff = .07 * len(str(count))\n",
        "            plt.text(j-xoff, i+.2, int(count), fontsize=9, color='white')"
      ],
      "execution_count": 38,
      "outputs": [
        {
          "output_type": "display_data",
          "data": {
            "image/png": "[encoded data removed]",
            "text/plain": [
              "<matplotlib.figure.Figure at 0x7f2516afd668>"
            ]
          },
          "metadata": {
            "tags": []
          }
        }
      ]
    },
    {
      "metadata": {
        "id": "0MGHY5_XJ9ra",
        "colab_type": "text"
      },
      "cell_type": "markdown",
      "source": [
        "Looks like the mispredictions are mostly between '2' adn '7'; '5' and '3'; '5' and '6'; '5' and '8'"
      ]
    },
    {
      "metadata": {
        "id": "n1gJSK2oJ3R7",
        "colab_type": "code",
        "colab": {
          "base_uri": "https://localhost:8080/",
          "height": 264
        },
        "outputId": "8db9e584-2f83-41f8-92ad-d7931c5674a2"
      },
      "cell_type": "code",
      "source": [
        "#take a look how the histogram looks like for the labels in our test set\n",
        "\n",
        "plt.xticks(numpy.arange(NUM_LABELS))\n",
        "plt.hist(numpy.argmax(test_labels, 1));"
      ],
      "execution_count": 39,
      "outputs": [
        {
          "output_type": "display_data",
          "data": {
            "image/png": "[encoded data removed]",
            "text/plain": [
              "<matplotlib.figure.Figure at 0x7f25046df400>"
            ]
          },
          "metadata": {
            "tags": []
          }
        }
      ]
    },
    {
      "metadata": {
        "id": "rpIcYk3HKXf-",
        "colab_type": "code",
        "colab": {
          "base_uri": "https://localhost:8080/",
          "height": 516
        },
        "outputId": "f418e803-d99d-4852-f83d-77ca54022355"
      },
      "cell_type": "code",
      "source": [
        "#try rerun our training to see whether our model will improve\n",
        "for step in range(steps):\n",
        "    # Compute the offset of the current minibatch in the data.\n",
        "    # Note that we could use better randomization across epochs.\n",
        "    offset = (step * BATCH_SIZE) % (train_size - BATCH_SIZE)\n",
        "    batch_data = train_data[offset:(offset + BATCH_SIZE), :, :, :]\n",
        "    batch_labels = train_labels[offset:(offset + BATCH_SIZE)]\n",
        "    # This dictionary maps the batch data (as a numpy array) to the\n",
        "    # node in the graph it should be fed to.\n",
        "    feed_dict = {train_data_node: batch_data,\n",
        "                 train_labels_node: batch_labels}\n",
        "    # Run the graph and fetch some of the nodes.\n",
        "    _, l, lr, predictions = s.run(\n",
        "      [optimizer, loss, learning_rate, train_prediction],\n",
        "      feed_dict=feed_dict)\n",
        "    \n",
        "    # Print out the loss periodically.\n",
        "    if step % 100 == 0:\n",
        "        error, _ = error_rate(predictions, batch_labels)\n",
        "        print('Step %d of %d' % (step, steps))\n",
        "        print('Mini-batch loss: %.5f Error: %.5f Learning rate: %.5f' % (l, error, lr))\n",
        "        print('Validation error: %.1f%%' % error_rate(\n",
        "              validation_prediction.eval(), validation_labels)[0])"
      ],
      "execution_count": 40,
      "outputs": [
        {
          "output_type": "stream",
          "text": [
            "Step 0 of 916\n",
            "Mini-batch loss: 3.00177 Error: 6.66667 Learning rate: 0.00950\n",
            "Validation error: 2.2%\n",
            "Step 100 of 916\n",
            "Mini-batch loss: 2.94567 Error: 3.33333 Learning rate: 0.00950\n",
            "Validation error: 1.7%\n",
            "Step 200 of 916\n",
            "Mini-batch loss: 2.89360 Error: 3.33333 Learning rate: 0.00950\n",
            "Validation error: 1.6%\n",
            "Step 300 of 916\n",
            "Mini-batch loss: 2.83109 Error: 3.33333 Learning rate: 0.00950\n",
            "Validation error: 1.5%\n",
            "Step 400 of 916\n",
            "Mini-batch loss: 2.82303 Error: 3.33333 Learning rate: 0.00950\n",
            "Validation error: 1.5%\n",
            "Step 500 of 916\n",
            "Mini-batch loss: 2.73074 Error: 0.00000 Learning rate: 0.00950\n",
            "Validation error: 1.4%\n",
            "Step 600 of 916\n",
            "Mini-batch loss: 2.74509 Error: 1.66667 Learning rate: 0.00950\n",
            "Validation error: 1.6%\n",
            "Step 700 of 916\n",
            "Mini-batch loss: 2.81013 Error: 6.66667 Learning rate: 0.00950\n",
            "Validation error: 1.5%\n",
            "Step 800 of 916\n",
            "Mini-batch loss: 2.70353 Error: 3.33333 Learning rate: 0.00950\n",
            "Validation error: 1.4%\n",
            "Step 900 of 916\n",
            "Mini-batch loss: 2.61659 Error: 0.00000 Learning rate: 0.00950\n",
            "Validation error: 1.3%\n"
          ],
          "name": "stdout"
        }
      ]
    },
    {
      "metadata": {
        "id": "r7kTZ24MMmIl",
        "colab_type": "text"
      },
      "cell_type": "markdown",
      "source": [
        "Ok, with another round of training, we can see the validation error is further reduced to 1.3%. we can see how our model performs with testing set again"
      ]
    },
    {
      "metadata": {
        "id": "dcKophYRKzJg",
        "colab_type": "code",
        "colab": {
          "base_uri": "https://localhost:8080/",
          "height": 295
        },
        "outputId": "e46396cd-ea7d-492c-c41b-0e62a24f1d9a"
      },
      "cell_type": "code",
      "source": [
        "test_error, confusions = error_rate(test_prediction.eval(), test_labels)\n",
        "print('Test error: %.1f%%' % test_error)\n",
        "\n",
        "plt.xlabel('Actual')\n",
        "plt.ylabel('Predicted')\n",
        "plt.grid(False)\n",
        "plt.xticks(numpy.arange(NUM_LABELS))\n",
        "plt.yticks(numpy.arange(NUM_LABELS))\n",
        "plt.imshow(confusions, cmap=plt.cm.jet, interpolation='nearest');\n",
        "\n",
        "for i, cas in enumerate(confusions):\n",
        "    for j, count in enumerate(cas):\n",
        "        if count > 0:\n",
        "            xoff = .07 * len(str(count))\n",
        "            plt.text(j-xoff, i+.2, int(count), fontsize=9, color='white')"
      ],
      "execution_count": 42,
      "outputs": [
        {
          "output_type": "stream",
          "text": [
            "Test error: 1.5%\n"
          ],
          "name": "stdout"
        },
        {
          "output_type": "display_data",
          "data": {
            "image/png": "[encoded data removed]",
            "text/plain": [
              "<matplotlib.figure.Figure at 0x7f250123b3c8>"
            ]
          },
          "metadata": {
            "tags": []
          }
        }
      ]
    },
    {
      "metadata": {
        "id": "CHovy7z0NO4h",
        "colab_type": "text"
      },
      "cell_type": "markdown",
      "source": [
        "**Our prediction result on test data are further improved too! - 1.5% error now**\n"
      ]
    },
    {
      "metadata": {
        "id": "_c0UWJu8OuI_",
        "colab_type": "text"
      },
      "cell_type": "markdown",
      "source": [
        "**Now using Pickle to export binary object for benchmark experiment usage**"
      ]
    },
    {
      "metadata": {
        "id": "sSkmXfsGM4k6",
        "colab_type": "code",
        "colab": {
          "base_uri": "https://localhost:8080/",
          "height": 216
        },
        "outputId": "5c0494a1-ae94-4cc9-c1bd-166809f55c8b"
      },
      "cell_type": "code",
      "source": [
        "# check data for pickle dump\n",
        "print('\\ntrain_data object:', type(train_data), train_data.shape)    \n",
        "print('\\ntrain_labels object:', type(train_labels),  train_labels.shape)  \n",
        "print('\\nvalidation_data object:', type(validation_data),  validation_data.shape)  \n",
        "print('\\nvalidation_labels object:', type(validation_labels),  validation_labels.shape)  \n",
        "print('\\ntest_data object:', type(test_data),  test_data.shape)  \n",
        "print('\\ntest_labels object:', type(test_labels),  test_labels.shape)  "
      ],
      "execution_count": 43,
      "outputs": [
        {
          "output_type": "stream",
          "text": [
            "\n",
            "train_data object: <class 'numpy.ndarray'> (55000, 28, 28, 1)\n",
            "\n",
            "train_labels object: <class 'numpy.ndarray'> (55000, 10)\n",
            "\n",
            "validation_data object: <class 'numpy.ndarray'> (5000, 28, 28, 1)\n",
            "\n",
            "validation_labels object: <class 'numpy.ndarray'> (5000, 10)\n",
            "\n",
            "test_data object: <class 'numpy.ndarray'> (10000, 28, 28, 1)\n",
            "\n",
            "test_labels object: <class 'numpy.ndarray'> (10000, 10)\n"
          ],
          "name": "stdout"
        }
      ]
    },
    {
      "metadata": {
        "id": "MfkDhupxO_6K",
        "colab_type": "code",
        "colab": {
          "base_uri": "https://localhost:8080/",
          "height": 50
        },
        "outputId": "7974e51e-60ac-4092-ced2-a1a6e571601a"
      },
      "cell_type": "code",
      "source": [
        "import pickle  # used for dumping and loading binary files\n",
        "\n",
        "# define collection of objects to export as binary file using pickle.\n",
        "data = {\n",
        "    'train_data': train_data,\n",
        "    'train_labels': train_labels,\n",
        "    'validation_data': validation_data,\n",
        "    'validation_labels': validation_labels,\n",
        "    'test_data': test_data,\n",
        "    'test_labels': test_labels}\n",
        "\n",
        "# write to binary file\n",
        "with open('mnist_data.pickle', 'wb') as f:\n",
        "    # Pickle the 'data' dictionary using the highest protocol available.\n",
        "    pickle.dump(data, f, pickle.HIGHEST_PROTOCOL)\n",
        "\n",
        "print('\\n Run complete. data objects sent to binary file  mnist_data.pickle')"
      ],
      "execution_count": 44,
      "outputs": [
        {
          "output_type": "stream",
          "text": [
            "\n",
            " Run complete. data objects sent to binary file  mnist_data.pickle\n"
          ],
          "name": "stdout"
        }
      ]
    },
    {
      "metadata": {
        "id": "vVZ81CznPHds",
        "colab_type": "code",
        "colab": {
          "base_uri": "https://localhost:8080/",
          "height": 250
        },
        "outputId": "e4160a13-1970-489c-c841-e6e60a03cc77"
      },
      "cell_type": "code",
      "source": [
        "with open('mnist_data.pickle', 'rb') as f:\n",
        "    # The protocol version used is detected automatically, so we do not\n",
        "    # have to specify it.\n",
        "    data = pickle.load(f)\n",
        "\n",
        "# extract objects from the dictionary object data\n",
        "train_data = data['train_data']\n",
        "train_labels = data['train_labels'] \n",
        "validation_data = data['validation_data'] \n",
        "validation_labels = data['validation_labels'] \n",
        "test_data = data['test_data'] \n",
        "test_labels = data['test_labels']  \n",
        "    \n",
        "# check data from pickle load\n",
        "print('\\ntrain_data object:', type(train_data), train_data.shape)    \n",
        "print('\\ntrain_labels object:', type(train_labels),  train_labels.shape)  \n",
        "print('\\nvalidation_data object:', type(validation_data),  validation_data.shape)  \n",
        "print('\\nvalidation_labels object:', type(validation_labels),  validation_labels.shape)  \n",
        "print('\\ntest_data object:', type(test_data),  test_data.shape)  \n",
        "print('\\ntest_labels object:', type(test_labels),  test_labels.shape)  \n",
        "\n",
        "print('\\ndata input complete')"
      ],
      "execution_count": 45,
      "outputs": [
        {
          "output_type": "stream",
          "text": [
            "\n",
            "train_data object: <class 'numpy.ndarray'> (55000, 28, 28, 1)\n",
            "\n",
            "train_labels object: <class 'numpy.ndarray'> (55000, 10)\n",
            "\n",
            "validation_data object: <class 'numpy.ndarray'> (5000, 28, 28, 1)\n",
            "\n",
            "validation_labels object: <class 'numpy.ndarray'> (5000, 10)\n",
            "\n",
            "test_data object: <class 'numpy.ndarray'> (10000, 28, 28, 1)\n",
            "\n",
            "test_labels object: <class 'numpy.ndarray'> (10000, 10)\n",
            "\n",
            "data input complete\n"
          ],
          "name": "stdout"
        }
      ]
    },
    {
      "metadata": {
        "id": "Ij1oBvpaPOuS",
        "colab_type": "code",
        "colab": {}
      },
      "cell_type": "code",
      "source": [
        "import numpy as np\n",
        "import pandas as pd\n",
        "import time\n",
        "\n",
        "# user-defined function to convert binary digits to digits 0-9\n",
        "# add digits to the end of our label data\n",
        "\n",
        "def label_transform(y_in):\n",
        "    for i in range(len(y_in)):\n",
        "        if (y_in[i] == 1): return i\n",
        "\n",
        "y_train = []    \n",
        "for j in range(train_labels.shape[0]):\n",
        "    y_train.append(label_transform(train_labels[j,]))  \n",
        "y_train = np.asarray(y_train)    \n",
        "\n",
        "y_validation = []    \n",
        "for j in range(validation_labels.shape[0]):\n",
        "    y_validation.append(label_transform(validation_labels[j,]))  \n",
        "y_validation = np.asarray(y_validation)    \n",
        "\n",
        "y_test = []    \n",
        "for j in range(test_labels.shape[0]):\n",
        "    y_test.append(label_transform(test_labels[j,]))  \n",
        "y_test = np.asarray(y_test) "
      ],
      "execution_count": 0,
      "outputs": []
    },
    {
      "metadata": {
        "id": "c_DfytmaPpsd",
        "colab_type": "code",
        "colab": {}
      },
      "cell_type": "code",
      "source": [
        "# 28x28 matrix of entries converted to vector of 784 entries    \n",
        "X_train = train_data.reshape(55000, 784)\n",
        "X_validation = validation_data.reshape(5000, 784)    \n",
        "X_test = test_data.reshape(10000, 784) "
      ],
      "execution_count": 0,
      "outputs": []
    },
    {
      "metadata": {
        "id": "YIC5gnJWPuSr",
        "colab_type": "code",
        "colab": {
          "base_uri": "https://localhost:8080/",
          "height": 216
        },
        "outputId": "5cc06264-c72d-4d1b-cb7d-7f80042961f8"
      },
      "cell_type": "code",
      "source": [
        "# check data intended for Scikit Learn input\n",
        "print('\\nX_train object:', type(X_train), X_train.shape)    \n",
        "print('\\ny_train object:', type(y_train),  y_train.shape)  \n",
        "print('\\nX_validation object:', type(X_validation),  X_validation.shape)  \n",
        "print('\\ny_validation object:', type(y_validation),  y_validation.shape)  \n",
        "print('\\nX_test object:', type(X_test),  X_test.shape)  \n",
        "print('\\ny_test object:', type(y_test),  y_test.shape)   "
      ],
      "execution_count": 48,
      "outputs": [
        {
          "output_type": "stream",
          "text": [
            "\n",
            "X_train object: <class 'numpy.ndarray'> (55000, 784)\n",
            "\n",
            "y_train object: <class 'numpy.ndarray'> (55000,)\n",
            "\n",
            "X_validation object: <class 'numpy.ndarray'> (5000, 784)\n",
            "\n",
            "y_validation object: <class 'numpy.ndarray'> (5000,)\n",
            "\n",
            "X_test object: <class 'numpy.ndarray'> (10000, 784)\n",
            "\n",
            "y_test object: <class 'numpy.ndarray'> (10000,)\n"
          ],
          "name": "stdout"
        }
      ]
    },
    {
      "metadata": {
        "id": "g2sRULqlPx_m",
        "colab_type": "code",
        "colab": {
          "base_uri": "https://localhost:8080/",
          "height": 83
        },
        "outputId": "3ca643be-4e02-41c9-f3fc-21a2d641bb85"
      },
      "cell_type": "code",
      "source": [
        "# Scikit Learn MLP Classification does validation internally, \n",
        "# so there is with no need for a separate validation set.\n",
        "# We will combine the train and validation sets.\n",
        "\n",
        "X_train_expanded = np.vstack((X_train, X_validation))\n",
        "y_train_expanded = np.vstack((y_train.reshape(55000,1), y_validation.reshape(5000,1)))\n",
        "\n",
        "print('\\nX_train_expanded object:', type(X_train_expanded),  X_train_expanded.shape)  \n",
        "print('\\ny_train_expanded object:', type(y_train_expanded), y_train_expanded.shape)  "
      ],
      "execution_count": 49,
      "outputs": [
        {
          "output_type": "stream",
          "text": [
            "\n",
            "X_train_expanded object: <class 'numpy.ndarray'> (60000, 784)\n",
            "\n",
            "y_train_expanded object: <class 'numpy.ndarray'> (60000, 1)\n"
          ],
          "name": "stdout"
        }
      ]
    },
    {
      "metadata": {
        "id": "hpyw4pBsP9M5",
        "colab_type": "text"
      },
      "cell_type": "markdown",
      "source": [
        "**Below build up our Scikit Learn MLPClassifier model as benchmark**"
      ]
    },
    {
      "metadata": {
        "id": "0E1QmObqP6Ek",
        "colab_type": "code",
        "colab": {}
      },
      "cell_type": "code",
      "source": [
        "RANDOM_SEED = 9999\n",
        "\n",
        "from sklearn.neural_network import MLPClassifier\n"
      ],
      "execution_count": 0,
      "outputs": []
    },
    {
      "metadata": {
        "id": "V1SpOWHkQMA1",
        "colab_type": "code",
        "colab": {}
      },
      "cell_type": "code",
      "source": [
        "names = ['ANN-2-Layers-10-Nodes-per-Layer',\n",
        "         'ANN-2-Layers-20-Nodes-per-Layer',\n",
        "         'ANN-5-Layers-10-Nodes-per-Layer',\n",
        "         'ANN-5-Layers-20-Nodes-per-Layer']\n",
        "\n",
        "layers = [2, 2, 5, 5]\n",
        "nodes_per_layer = [10, 20, 10, 20]\n",
        "treatment_condition = [(10, 10), \n",
        "                       (20, 20), \n",
        "                       (10, 10, 10, 10, 10), \n",
        "                       (20, 20, 20, 20, 20)] "
      ],
      "execution_count": 0,
      "outputs": []
    },
    {
      "metadata": {
        "id": "MrKhAZysQQn7",
        "colab_type": "code",
        "colab": {}
      },
      "cell_type": "code",
      "source": [
        "# note that validation is included in the method  \n",
        "# for validation_fraction 0.083333, note that 60000 * 0.83333 = 5000    \n",
        "methods = [MLPClassifier(hidden_layer_sizes=treatment_condition[0], activation='relu', \n",
        "              solver='adam', alpha=0.0001, batch_size='auto', \n",
        "              learning_rate='constant', learning_rate_init=0.001, \n",
        "              power_t=0.5, max_iter=200, shuffle=True, \n",
        "              random_state=RANDOM_SEED, \n",
        "              tol=0.0001, verbose=False, warm_start=False, momentum=0.9, \n",
        "              nesterovs_momentum=True, early_stopping=False, \n",
        "              validation_fraction=0.083333, beta_1=0.9, beta_2=0.999, epsilon=1e-08),\n",
        "    MLPClassifier(hidden_layer_sizes=treatment_condition[1], activation='relu', \n",
        "              solver='adam', alpha=0.0001, batch_size='auto', \n",
        "              learning_rate='constant', learning_rate_init=0.001, \n",
        "              power_t=0.5, max_iter=200, shuffle=True, \n",
        "              random_state=RANDOM_SEED, \n",
        "              tol=0.0001, verbose=False, warm_start=False, momentum=0.9, \n",
        "              nesterovs_momentum=True, early_stopping=False, \n",
        "              validation_fraction=0.083333, beta_1=0.9, beta_2=0.999, epsilon=1e-08),\n",
        "    MLPClassifier(hidden_layer_sizes=treatment_condition[2], activation='relu', \n",
        "              solver='adam', alpha=0.0001, batch_size='auto', \n",
        "              learning_rate='constant', learning_rate_init=0.001, \n",
        "              power_t=0.5, max_iter=200, shuffle=True, \n",
        "              random_state=RANDOM_SEED, \n",
        "              tol=0.0001, verbose=False, warm_start=False, momentum=0.9, \n",
        "              nesterovs_momentum=True, early_stopping=False, \n",
        "              validation_fraction=0.083333, beta_1=0.9, beta_2=0.999, epsilon=1e-08),\n",
        "    MLPClassifier(hidden_layer_sizes=treatment_condition[3], activation='relu', \n",
        "              solver='adam', alpha=0.0001, batch_size='auto', \n",
        "              learning_rate='constant', learning_rate_init=0.001, \n",
        "              power_t=0.5, max_iter=200, shuffle=True, \n",
        "              random_state=RANDOM_SEED, \n",
        "              tol=0.0001, verbose=False, warm_start=False, momentum=0.9, \n",
        "              nesterovs_momentum=True, early_stopping=False, \n",
        "              validation_fraction=0.083333, beta_1=0.9, beta_2=0.999, epsilon=1e-08)]"
      ],
      "execution_count": 0,
      "outputs": []
    },
    {
      "metadata": {
        "id": "sF97XV1jQq0U",
        "colab_type": "text"
      },
      "cell_type": "markdown",
      "source": [
        "\n",
        "\n",
        "*   validation_fraction 0.083333; 60000*0.833=5000; so validation size fits what is used in neural network\n",
        "*   solver = 'adam'\n",
        "*   activation = 'relu', fitting used in neural network\n",
        "*   test 4 different structure\n",
        "\n"
      ]
    },
    {
      "metadata": {
        "id": "4YGPFdsBQbJg",
        "colab_type": "code",
        "colab": {
          "base_uri": "https://localhost:8080/",
          "height": 1216
        },
        "outputId": "1925da1d-1e75-4b2b-dbde-49a9909f5a2c"
      },
      "cell_type": "code",
      "source": [
        "index_for_method = 0 \n",
        "training_performance_results = []\n",
        "test_performance_results = []\n",
        "processing_time = []\n",
        "   \n",
        "for name, method in zip(names, methods):\n",
        "    print('\\n------------------------------------')\n",
        "    print('\\nMethod:', name)\n",
        "    print('\\n  Specification of method:', method)\n",
        "    start_time = time.clock()\n",
        "    method.fit(X_train, y_train)\n",
        "    end_time = time.clock()\n",
        "    runtime = end_time - start_time  # seconds of wall-clock time \n",
        "    print(\"\\nProcessing time (seconds): %f\" % runtime)        \n",
        "    processing_time.append(runtime)\n",
        "\n",
        "    # mean accuracy of prediction in training set\n",
        "    training_performance = method.score(X_train_expanded, y_train_expanded)\n",
        "    print(\"\\nTraining set accuracy: %f\" % training_performance)\n",
        "    training_performance_results.append(training_performance)\n",
        "\n",
        "    # mean accuracy of prediction in test set\n",
        "    test_performance = method.score(X_test, y_test)\n",
        "    print(\"\\nTest set accuracy: %f\" % test_performance)\n",
        "    test_performance_results.append(test_performance)\n",
        "                \n",
        "    index_for_method += 1"
      ],
      "execution_count": 53,
      "outputs": [
        {
          "output_type": "stream",
          "text": [
            "\n",
            "------------------------------------\n",
            "\n",
            "Method: ANN-2-Layers-10-Nodes-per-Layer\n",
            "\n",
            "  Specification of method: MLPClassifier(activation='relu', alpha=0.0001, batch_size='auto', beta_1=0.9,\n",
            "       beta_2=0.999, early_stopping=False, epsilon=1e-08,\n",
            "       hidden_layer_sizes=(10, 10), learning_rate='constant',\n",
            "       learning_rate_init=0.001, max_iter=200, momentum=0.9,\n",
            "       nesterovs_momentum=True, power_t=0.5, random_state=9999,\n",
            "       shuffle=True, solver='adam', tol=0.0001,\n",
            "       validation_fraction=0.083333, verbose=False, warm_start=False)\n",
            "\n",
            "Processing time (seconds): 135.987975\n",
            "\n",
            "Training set accuracy: 0.934983\n",
            "\n",
            "Test set accuracy: 0.927300\n",
            "\n",
            "------------------------------------\n",
            "\n",
            "Method: ANN-2-Layers-20-Nodes-per-Layer\n",
            "\n",
            "  Specification of method: MLPClassifier(activation='relu', alpha=0.0001, batch_size='auto', beta_1=0.9,\n",
            "       beta_2=0.999, early_stopping=False, epsilon=1e-08,\n",
            "       hidden_layer_sizes=(20, 20), learning_rate='constant',\n",
            "       learning_rate_init=0.001, max_iter=200, momentum=0.9,\n",
            "       nesterovs_momentum=True, power_t=0.5, random_state=9999,\n",
            "       shuffle=True, solver='adam', tol=0.0001,\n",
            "       validation_fraction=0.083333, verbose=False, warm_start=False)\n",
            "\n",
            "Processing time (seconds): 218.264116\n",
            "\n",
            "Training set accuracy: 0.966950\n",
            "\n",
            "Test set accuracy: 0.951700\n",
            "\n",
            "------------------------------------\n",
            "\n",
            "Method: ANN-5-Layers-10-Nodes-per-Layer\n",
            "\n",
            "  Specification of method: MLPClassifier(activation='relu', alpha=0.0001, batch_size='auto', beta_1=0.9,\n",
            "       beta_2=0.999, early_stopping=False, epsilon=1e-08,\n",
            "       hidden_layer_sizes=(10, 10, 10, 10, 10), learning_rate='constant',\n",
            "       learning_rate_init=0.001, max_iter=200, momentum=0.9,\n",
            "       nesterovs_momentum=True, power_t=0.5, random_state=9999,\n",
            "       shuffle=True, solver='adam', tol=0.0001,\n",
            "       validation_fraction=0.083333, verbose=False, warm_start=False)\n",
            "\n",
            "Processing time (seconds): 149.282256\n",
            "\n",
            "Training set accuracy: 0.943900\n",
            "\n",
            "Test set accuracy: 0.933000\n",
            "\n",
            "------------------------------------\n",
            "\n",
            "Method: ANN-5-Layers-20-Nodes-per-Layer\n",
            "\n",
            "  Specification of method: MLPClassifier(activation='relu', alpha=0.0001, batch_size='auto', beta_1=0.9,\n",
            "       beta_2=0.999, early_stopping=False, epsilon=1e-08,\n",
            "       hidden_layer_sizes=(20, 20, 20, 20, 20), learning_rate='constant',\n",
            "       learning_rate_init=0.001, max_iter=200, momentum=0.9,\n",
            "       nesterovs_momentum=True, power_t=0.5, random_state=9999,\n",
            "       shuffle=True, solver='adam', tol=0.0001,\n",
            "       validation_fraction=0.083333, verbose=False, warm_start=False)\n",
            "\n",
            "Processing time (seconds): 118.972399\n",
            "\n",
            "Training set accuracy: 0.964783\n",
            "\n",
            "Test set accuracy: 0.952200\n"
          ],
          "name": "stdout"
        }
      ]
    },
    {
      "metadata": {
        "id": "-BvOxqiDRr-n",
        "colab_type": "code",
        "colab": {
          "base_uri": "https://localhost:8080/",
          "height": 250
        },
        "outputId": "75345d7f-6e22-4555-af1f-423bc6d38c02"
      },
      "cell_type": "code",
      "source": [
        "from collections import OrderedDict  \n",
        "\n",
        "results = pd.DataFrame(OrderedDict([('Method Name', names),\n",
        "                        ('Layers', layers),\n",
        "                        ('Nodes per Layer', nodes_per_layer),\n",
        "                        ('Processing Time', processing_time),\n",
        "                        ('Training Set Accuracy', training_performance_results),\n",
        "                        ('Test Set Accuracy', test_performance_results)]))\n",
        "\n",
        "print('\\nBenchmark Experiment: Scikit Learn Artificial Neural Networks\\n')\n",
        "print(results) "
      ],
      "execution_count": 54,
      "outputs": [
        {
          "output_type": "stream",
          "text": [
            "\n",
            "Benchmark Experiment: Scikit Learn Artificial Neural Networks\n",
            "\n",
            "                       Method Name  Layers  Nodes per Layer  Processing Time  \\\n",
            "0  ANN-2-Layers-10-Nodes-per-Layer       2               10       135.987975   \n",
            "1  ANN-2-Layers-20-Nodes-per-Layer       2               20       218.264116   \n",
            "2  ANN-5-Layers-10-Nodes-per-Layer       5               10       149.282256   \n",
            "3  ANN-5-Layers-20-Nodes-per-Layer       5               20       118.972399   \n",
            "\n",
            "   Training Set Accuracy  Test Set Accuracy  \n",
            "0               0.934983             0.9273  \n",
            "1               0.966950             0.9517  \n",
            "2               0.943900             0.9330  \n",
            "3               0.964783             0.9522  \n"
          ],
          "name": "stdout"
        }
      ]
    },
    {
      "metadata": {
        "id": "PbTGynrJTCFD",
        "colab_type": "code",
        "colab": {}
      },
      "cell_type": "code",
      "source": [
        ""
      ],
      "execution_count": 0,
      "outputs": []
    }
  ]
}